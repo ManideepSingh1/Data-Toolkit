{
  "nbformat": 4,
  "nbformat_minor": 0,
  "metadata": {
    "colab": {
      "provenance": []
    },
    "kernelspec": {
      "name": "python3",
      "display_name": "Python 3"
    },
    "language_info": {
      "name": "python"
    }
  },
  "cells": [
    {
      "cell_type": "markdown",
      "source": [
        "**Answer 1-**A RESTful API (Representational State Transfer) is an architectural style for designing networked applications. It uses standard HTTP methods (GET, POST, PUT, DELETE) to access and manipulate data. REST APIs are stateless, meaning each request from a client contains all the information needed to process the reques"
      ],
      "metadata": {
        "id": "6dnnwFhpMjsS"
      }
    },
    {
      "cell_type": "markdown",
      "source": [
        "**Answer 2-**An API specification is a document that describes how an API works. It includes:\n",
        "\n",
        "Available endpoints\n",
        "\n",
        "Request and response formats\n",
        "\n",
        "Supported HTTP methods\n",
        "\n",
        "Authentication methods\n",
        "\n",
        "Data models (schemas)"
      ],
      "metadata": {
        "id": "rayw7k2YMpTJ"
      }
    },
    {
      "cell_type": "markdown",
      "source": [
        "**Answer 3-** Flask is a lightweight Python web framework. It's popular for building APIs because:\n",
        "\n",
        "It’s minimal and easy to use\n",
        "\n",
        "Provides flexibility\n",
        "\n",
        "Has strong community support\n",
        "\n",
        "Easily integrates with libraries like SQLAlchemy, Flask-RESTful"
      ],
      "metadata": {
        "id": "gDf4FlQPM1Wi"
      }
    },
    {
      "cell_type": "markdown",
      "source": [
        "**Answer 4-** Routing is the mechanism that maps URLs to functions in Flask. For example, visiting /home can trigger a specific function to handle the request."
      ],
      "metadata": {
        "id": "F40h0tagM2JZ"
      }
    },
    {
      "cell_type": "code",
      "source": [
        "Answer 5\n",
        "\n",
        "from flask import Flask\n",
        "\n",
        "app = Flask(__name__)\n",
        "\n",
        "@app.route('/')\n",
        "def hello():\n",
        "    return \"Hello, Flask!\"\n",
        "\n",
        "if __name__ == '__main__':\n",
        "    app.run(debug=True)\n"
      ],
      "metadata": {
        "id": "GOT4WXVENogh"
      },
      "execution_count": null,
      "outputs": []
    },
    {
      "cell_type": "markdown",
      "source": [
        "**Answer 6-** GET – Retrieve data\n",
        "\n",
        "POST – Create data\n",
        "\n",
        "PUT – Update data\n",
        "\n",
        "DELETE – Delete data\n",
        "\n",
        "PATCH – Partially update data"
      ],
      "metadata": {
        "id": "BK6bsEmtNtUp"
      }
    },
    {
      "cell_type": "markdown",
      "source": [
        "**Answer 7-** It binds a URL path to a view function."
      ],
      "metadata": {
        "id": "eTRgkJ2WN1NR"
      }
    },
    {
      "cell_type": "markdown",
      "source": [
        "**Answer 8-** GET: Retrieves data; parameters are passed in the URL; idempotent.\n",
        "\n",
        "POST: Submits data; parameters are in the request body; not idempotent."
      ],
      "metadata": {
        "id": "KEVnBmEGN7v4"
      }
    },
    {
      "cell_type": "markdown",
      "source": [
        "**Answer 9-** Using Flask’s @app.errorhandler decorator:"
      ],
      "metadata": {
        "id": "mHQqLX3fOBhY"
      }
    },
    {
      "cell_type": "markdown",
      "source": [
        "**Answer 10-** Using Flask-SQLAlchemy"
      ],
      "metadata": {
        "id": "QOHs3QJZOH0J"
      }
    },
    {
      "cell_type": "markdown",
      "source": [
        "**Answer 11-** It’s an ORM (Object-Relational Mapper) that simplifies database operations in Flask by letting you interact with the database using Python classes and methods instead of raw SQL."
      ],
      "metadata": {
        "id": "14ouRbmtOTu5"
      }
    },
    {
      "cell_type": "markdown",
      "source": [
        "**Answer 12-** Blueprints let you structure large Flask applications into reusable components (like modular routes). Useful for separating different parts like auth, api, admin."
      ],
      "metadata": {
        "id": "cNbWJ9XsOXXp"
      }
    },
    {
      "cell_type": "markdown",
      "source": [
        "**Answer 13-**  It gives access to incoming request data:\n",
        "\n",
        "request.args – query params\n",
        "\n",
        "request.form – form data\n",
        "\n",
        "request.json – JSON body\n",
        "\n",
        "request.headers – HTTP headers"
      ],
      "metadata": {
        "id": "CMM2Q0WSOeEh"
      }
    },
    {
      "cell_type": "code",
      "source": [
        "Answer 14-\n",
        "\n",
        " @app.route('/api/data', methods=['GET'])\n",
        "def get_data():\n",
        "    return jsonify({\"message\": \"Data retrieved\"})\n"
      ],
      "metadata": {
        "id": "oGY3Q0pyO4hh"
      },
      "execution_count": null,
      "outputs": []
    },
    {
      "cell_type": "markdown",
      "source": [
        "**Answer 15-** It converts Python dictionaries/lists into JSON responses and sets the Content-Type to application/json."
      ],
      "metadata": {
        "id": "2WzuqMHtOqqQ"
      }
    },
    {
      "cell_type": "markdown",
      "source": [
        "**Answer 16-** It dynamically builds a URL for a view function and Helps avoid hardcoding URLs."
      ],
      "metadata": {
        "id": "wupGBnLNO9qY"
      }
    },
    {
      "cell_type": "markdown",
      "source": [
        "**Answer 17-** Place files in the static/ folder. Access them via /static/filename.css."
      ],
      "metadata": {
        "id": "6kuD06sNPH8B"
      }
    },
    {
      "cell_type": "markdown",
      "source": [
        "**Answer 18-**  It serves as a contract between frontend and backend, ensures consistency, and enables tools like Swagger UI."
      ],
      "metadata": {
        "id": "v-OOSieWPOb5"
      }
    },
    {
      "cell_type": "markdown",
      "source": [
        "**Answer 19-** Status codes indicate the result of a request:\n",
        "\n",
        "200 OK – success\n",
        "\n",
        "201 Created – resource created\n",
        "\n",
        "400 Bad Request – invalid input\n",
        "\n",
        "401 Unauthorized – authentication required\n",
        "\n",
        "404 Not Found – resource missing\n",
        "\n",
        "500 Internal Server Error – server crashed"
      ],
      "metadata": {
        "id": "U4p0u_5sPapB"
      }
    },
    {
      "cell_type": "code",
      "source": [
        "Answer 20-\n",
        "\n",
        "@app.route('/submit', methods=['POST'])\n",
        "def submit():\n",
        "    data = request.get_json()\n",
        "    return jsonify({'received': data}), 201\n"
      ],
      "metadata": {
        "id": "8aaN0jTTPo6Z"
      },
      "execution_count": null,
      "outputs": []
    },
    {
      "cell_type": "markdown",
      "source": [
        "**Answer 21-** Use HTTPS\n",
        "\n",
        "Input validation/sanitization\n",
        "\n",
        "Authentication (JWT, OAuth)\n",
        "\n",
        "Authorization\n",
        "\n",
        "Rate limiting\n",
        "\n",
        "CORS control\n",
        "\n",
        "API key/token-based access"
      ],
      "metadata": {
        "id": "0f7Pk7i8PrZx"
      }
    },
    {
      "cell_type": "markdown",
      "source": [
        "**Answer 22-** It simplifies building REST APIs in Flask with:\n",
        "\n",
        "Class-based views (Resource)\n",
        "\n",
        "Automatic request parsing\n",
        "\n",
        "Better response handling"
      ],
      "metadata": {
        "id": "cwV7FgmJPx0B"
      }
    },
    {
      "cell_type": "markdown",
      "source": [
        "**Answer 23-** session stores user-specific data across requests (like a shopping cart or login state). It uses cookies signed cryptographically."
      ],
      "metadata": {
        "id": "-YnA9l-lP4Ep"
      }
    },
    {
      "cell_type": "markdown",
      "source": [
        "** Practical Answers**"
      ],
      "metadata": {
        "id": "jmhcp4sRQDGK"
      }
    },
    {
      "cell_type": "code",
      "source": [
        "Answer 1\n",
        "\n",
        "from flask import Flask\n",
        "\n",
        "app = Flask(__name__)\n",
        "\n",
        "@app.route('/')\n",
        "def home():\n",
        "    return 'Hello, Flask!'\n",
        "\n",
        "if __name__ == '__main__':\n",
        "    app.run(debug=True)"
      ],
      "metadata": {
        "id": "lUbhvLkdQsaR"
      },
      "execution_count": null,
      "outputs": []
    },
    {
      "cell_type": "code",
      "source": [
        "Answer 2-\n",
        "\n",
        "<link rel=\"stylesheet\" href=\"{{ url_for('static', filename='style.css') }}\">\n",
        "<img src=\"{{ url_for('static', filename='logo.png') }}\">\n"
      ],
      "metadata": {
        "id": "atPgakpQSwkI"
      },
      "execution_count": null,
      "outputs": []
    },
    {
      "cell_type": "code",
      "source": [
        "Answer 3-\n",
        "\n",
        "@app.route('/submit', methods=['GET', 'POST'])\n",
        "def submit():\n",
        "    if request.method == 'POST':\n",
        "        return 'Form submitted'\n",
        "    return 'Submit page'\n"
      ],
      "metadata": {
        "id": "JhMCCsLsSy5w"
      },
      "execution_count": null,
      "outputs": []
    },
    {
      "cell_type": "code",
      "source": [
        "Answer 4-\n",
        "\n",
        "from flask import render_template\n",
        "\n",
        "@app.route('/')\n",
        "def home():\n",
        "    return render_template('index.html')\n"
      ],
      "metadata": {
        "id": "5Es6oQ4PS2pw"
      },
      "execution_count": null,
      "outputs": []
    },
    {
      "cell_type": "code",
      "source": [
        "Answer 5-\n",
        "\n",
        "@app.route('/about')\n",
        "def about():\n",
        "    return 'About Page'\n",
        "\n",
        "# Usage\n",
        "url_for('about')  # returns '/about'\n"
      ],
      "metadata": {
        "id": "6GBUba3nS6Qo"
      },
      "execution_count": null,
      "outputs": []
    },
    {
      "cell_type": "code",
      "source": [
        "Answer 6-\n",
        "\n",
        "from flask import request\n",
        "\n",
        "@app.route('/form', methods=['POST'])\n",
        "def form_submit():\n",
        "    username = request.form['username']\n",
        "    return f'Hello, {username}!'\n"
      ],
      "metadata": {
        "id": "3mUtHJpDS9To"
      },
      "execution_count": null,
      "outputs": []
    },
    {
      "cell_type": "code",
      "source": [
        "Answer 7-\n",
        "\n",
        "from flask_wtf import FlaskForm\n",
        "from wtforms import StringField, SubmitField\n",
        "from wtforms.validators import DataRequired\n",
        "\n",
        "class MyForm(FlaskForm):\n",
        "    name = StringField('Name', validators=[DataRequired()])\n",
        "    submit = SubmitField('Submit')\n"
      ],
      "metadata": {
        "id": "5eVGxm3iTAV3"
      },
      "execution_count": null,
      "outputs": []
    },
    {
      "cell_type": "code",
      "source": [
        "Answer 8- from flask import session\n",
        "\n",
        "app.secret_key = 'your_secret_key'\n",
        "\n",
        "@app.route('/login')\n",
        "def login():\n",
        "    session['user'] = 'Manideep'\n",
        "    return 'Logged in'\n",
        "\n",
        "@app.route('/logout')\n",
        "def logout():\n",
        "    session.pop('user', None)\n",
        "    return 'Logged out'\n"
      ],
      "metadata": {
        "id": "NQ1pYUHqTOLw"
      },
      "execution_count": null,
      "outputs": []
    },
    {
      "cell_type": "code",
      "source": [
        "Answer 9-\n",
        "\n",
        "from flask import redirect, url_for\n",
        "\n",
        "@app.route('/go')\n",
        "def go():\n",
        "    return redirect(url_for('home'))\n"
      ],
      "metadata": {
        "id": "XJbwAPsCTScH"
      },
      "execution_count": null,
      "outputs": []
    },
    {
      "cell_type": "code",
      "source": [
        "Answer 10-\n",
        "\n",
        "@app.errorhandler(404)\n",
        "def page_not_found(e):\n",
        "    return render_template('404.html'), 404\n"
      ],
      "metadata": {
        "id": "Z4tRpGUdTVZv"
      },
      "execution_count": null,
      "outputs": []
    },
    {
      "cell_type": "code",
      "source": [
        "Answer 12-\n",
        "\n",
        "@app.template_filter('capitalize')\n",
        "def capitalize_filter(s):\n",
        "    return s.capitalize()\n",
        "\n",
        "# In HTML template\n",
        "{{ \"flask\" | capitalize }}\n"
      ],
      "metadata": {
        "id": "tccy80h_TeFg"
      },
      "execution_count": null,
      "outputs": []
    },
    {
      "cell_type": "code",
      "source": [
        "Answer 13-\n",
        "\n",
        "from flask import redirect, url_for\n",
        "\n",
        "@app.route('/go')\n",
        "def go():\n",
        "    return redirect(url_for('search', q='flask'))\n",
        "\n",
        "@app.route('/search')\n",
        "def search():\n",
        "    query = request.args.get('q')\n",
        "    return f'Searching for: {query}'\n"
      ],
      "metadata": {
        "id": "ONyFaRloTn3f"
      },
      "execution_count": null,
      "outputs": []
    },
    {
      "cell_type": "code",
      "source": [
        "Answer 14-\n",
        "\n",
        "from flask import jsonify\n",
        "\n",
        "@app.route('/api/data')\n",
        "def data():\n",
        "    return jsonify({'name': 'Manideep', 'role': 'Analyst'})\n"
      ],
      "metadata": {
        "id": "ilm2MTxMTwQ6"
      },
      "execution_count": null,
      "outputs": []
    },
    {
      "cell_type": "code",
      "source": [
        "Answer 15-\n",
        "\n",
        "@app.route('/user/<username>')\n",
        "def profile(username):\n",
        "    return f'User: {username}'\n"
      ],
      "metadata": {
        "id": "PH9FS8EvTyC_"
      },
      "execution_count": null,
      "outputs": []
    }
  ]
}