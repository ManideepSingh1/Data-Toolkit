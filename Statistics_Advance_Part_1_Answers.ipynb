{
  "nbformat": 4,
  "nbformat_minor": 0,
  "metadata": {
    "colab": {
      "provenance": []
    },
    "kernelspec": {
      "name": "python3",
      "display_name": "Python 3"
    },
    "language_info": {
      "name": "python"
    }
  },
  "cells": [
    {
      "cell_type": "markdown",
      "source": [
        "**Que 1- What is a random variable in probability theory?**\n",
        "\n",
        "**Answer 1-** A random variable is a numerical outcome of a random process or experiment. It assigns a value to each possible outcome of a probabilistic scenario."
      ],
      "metadata": {
        "id": "24GnPKRxWyv4"
      }
    },
    {
      "cell_type": "markdown",
      "source": [
        "**Que 2- What are the types of random variables?**\n",
        "\n",
        "**Answer 2-** Discrete Random Variable and  Continuous Random Variable"
      ],
      "metadata": {
        "id": "iYzOgt7AW7zw"
      }
    },
    {
      "cell_type": "markdown",
      "source": [
        "**Que 3- What is the difference between discrete and continuous distributions?**\n",
        "\n",
        "**Answer 3-**\n",
        "Discrete Distribution: Defined for countable outcomes. Example: Binomial, Poisson.\n",
        "\n",
        "Continuous Distribution: Defined over continuous intervals. Example: Normal, Exponential."
      ],
      "metadata": {
        "id": "zkjpIkHnXPov"
      }
    },
    {
      "cell_type": "markdown",
      "source": [
        "**Que 4- What are probability distribution functions (PDF)?**\n",
        "\n",
        "**Answer 4-**\n",
        "For discrete variables, PDF gives the probability of exact values.\n",
        "\n",
        "For continuous variables, PDF gives the density, and probability is found using area under the curve."
      ],
      "metadata": {
        "id": "Yp0i0QwcXdV3"
      }
    },
    {
      "cell_type": "markdown",
      "source": [
        "**Que 5- How do cumulative distribution functions (CDF) differ from probability distribution functions (PDF)?**\n",
        "\n",
        "**Answer 5-**\n",
        "PDF (or PMF for discrete): Describes the likelihood of a specific value.\n",
        "\n",
        "CDF: Describes the probability that a variable is less than or equal to a certain value."
      ],
      "metadata": {
        "id": "4c9-6essXyv3"
      }
    },
    {
      "cell_type": "markdown",
      "source": [
        "**Que 6-  What is a discrete uniform distribution?**\n",
        "\n",
        "**Answer 6-**\n",
        "A distribution where each outcome has the same probability"
      ],
      "metadata": {
        "id": "sMAhnSujYBqn"
      }
    },
    {
      "cell_type": "markdown",
      "source": [
        "**Que 7- What are the key properties of a Bernoulli distribution?**\n",
        "\n",
        "**Answer 7-**\n",
        "Only two outcomes: success (1) or failure (0).\n",
        "\n",
        "One parameter: p = probability of success.\n",
        "\n",
        "Mean = p, Variance = p(1 - p)"
      ],
      "metadata": {
        "id": "iYDkG8hjYLan"
      }
    },
    {
      "cell_type": "markdown",
      "source": [
        "**Que 8- What is the binomial distribution, and how is it used in probability?**\n",
        "\n",
        "**Answer 8-**\n",
        "Binomial Distribution represents number of successes in n independent Bernoulli trials.\n",
        "\n",
        "Parameters: n (trials), p (success probability).\n",
        "\n",
        "It is Used in quality control, survey sampling, etc."
      ],
      "metadata": {
        "id": "V4o9t2aWYVK_"
      }
    },
    {
      "cell_type": "markdown",
      "source": [
        "**Que 9- What is the Poisson distribution and where is it applied?**\n",
        "\n",
        "**Answer 9-**\n",
        "Poisson distribution is models number of events in a fixed interval (time, area, etc.) when events occur independently at a constant average rate.\n",
        "\n",
        "Example: Number of emails received per hour."
      ],
      "metadata": {
        "id": "tRweipupYt5X"
      }
    },
    {
      "cell_type": "markdown",
      "source": [
        "**Que 10- What is a continuous uniform distribution?**\n",
        "\n",
        "**Answer 10-**Continuous uniform distribution is where all outcomes in a range [a, b] are equally likely. The PDF is constant:\n",
        "𝑓\n",
        "(\n",
        "𝑥\n",
        ")\n",
        "=\n",
        "1\n",
        "𝑏\n",
        "−\n",
        "𝑎\n",
        "f(x)=\n",
        "b−a\n",
        "1\n",
        "​\n",
        "  for\n",
        "𝑎\n",
        "≤\n",
        "𝑥\n",
        "≤\n",
        "𝑏\n",
        "a≤x≤b"
      ],
      "metadata": {
        "id": "cylfduRMZLSe"
      }
    },
    {
      "cell_type": "markdown",
      "source": [
        "**Que 11- What are the characteristics of a normal distribution?**\n",
        "\n",
        "**Answer 11-** Bell-shaped, symmetric about the mean.\n",
        "\n",
        "Defined by two parameters: mean (μ) and standard deviation (σ).\n",
        "\n",
        "Most natural phenomena follow it (e.g., heights, IQ scores)."
      ],
      "metadata": {
        "id": "4iS_3fi4ZlSf"
      }
    },
    {
      "cell_type": "markdown",
      "source": [
        "**Que 12- What is the standard normal distribution, and why is it important?**\n",
        "\n",
        "**Answer 12-** A normal distribution with mean = 0 and standard deviation = 1.\n",
        "\n",
        "Important for converting values into Z-scores for comparison and hypothesis testing."
      ],
      "metadata": {
        "id": "8iLTFlbDYgBA"
      }
    },
    {
      "cell_type": "markdown",
      "source": [
        "**Que 13- What is the Central Limit Theorem (CLT), and why is it critical in statistics?**\n",
        "\n",
        "**Answer 13-**\n",
        "The CLT states that the sampling distribution of the sample mean becomes approximately normal as sample size increases, regardless of the population distribution.\n",
        "It allows using normal distribution to:\n",
        "\n",
        "Make inferences\n",
        "\n",
        "Construct confidence intervals\n",
        "\n",
        "Perform hypothesis tests"
      ],
      "metadata": {
        "id": "oZc9BFCoZ8In"
      }
    },
    {
      "cell_type": "markdown",
      "source": [
        "**Que 14- How does the Central Limit Theorem relate to the normal distribution?**\n",
        "\n",
        "**Answer 14-** Even if the population isn't normally distributed, the sample mean will be normally distributed (if sample size is large enough).\n",
        "\n",
        "Enables the use of Z-distribution in analysis."
      ],
      "metadata": {
        "id": "WIFmP__GaDTH"
      }
    },
    {
      "cell_type": "markdown",
      "source": [
        "**Que 15- What is the application of Z statistics in hypothesis testing?**\n",
        "\n",
        "**Answer 15-**\n",
        "Used to test if a sample mean significantly differs from the population mean.\n",
        "\n",
        "Z-test is applied when:\n",
        "\n",
        "Population variance is known\n",
        "\n",
        "Sample size is large (n ≥ 30)"
      ],
      "metadata": {
        "id": "9_rD43kXaLPm"
      }
    },
    {
      "cell_type": "markdown",
      "source": [
        "**Que 16- How do you calculate a Z-score, and what does it represent?**\n",
        "\n",
        "**Answer 16-** Using Formula:\n",
        "𝑍\n",
        "=\n",
        "𝑋\n",
        "−\n",
        "𝜇\n",
        "𝜎\n",
        "Z=\n",
        "σ\n",
        "X−μ\n",
        "​\n",
        "\n",
        "X: data point, μ: mean, σ: standard deviation\n",
        "\n",
        "Represents how many standard deviations a value is from the mean."
      ],
      "metadata": {
        "id": "kJq5GiUpaTFH"
      }
    },
    {
      "cell_type": "markdown",
      "source": [
        "**Que 17-What are point estimates and interval estimates in statistics?**\n",
        "\n",
        "**Answer 17-** Point Estimate: A single value used to estimate a population parameter (e.g., sample mean).\n",
        "\n",
        "Interval Estimate: A range (like confidence interval) within which the parameter is expected to fall."
      ],
      "metadata": {
        "id": "nUFsOct-aefW"
      }
    },
    {
      "cell_type": "markdown",
      "source": [
        "**Que 18- What is the significance of confidence intervals in statistical analysis?**\n",
        "\n",
        "**Answer 18-**\n",
        "A confidence interval gives a range of plausible values for a population parameter and reflects the level of uncertainty.\n",
        "Example: 95% CI means “we are 95% confident the true mean lies within this interval"
      ],
      "metadata": {
        "id": "m14mGbbaanBP"
      }
    },
    {
      "cell_type": "markdown",
      "source": [
        "**Que 19-  What is the relationship between a Z-score and a confidence interval?**\n",
        "\n",
        "**Answer 19-**\n",
        "Z-scores determine the critical values used in confidence interval calculation.\n",
        "\n"
      ],
      "metadata": {
        "id": "_OzfrWf6aul_"
      }
    },
    {
      "cell_type": "markdown",
      "source": [
        "**Que 20- How are Z-scores used to compare different distributions?**\n",
        "\n",
        "**Answer 20-**\n",
        "Z-scores standardize different values, allowing comparison even if the datasets have different scales or units."
      ],
      "metadata": {
        "id": "HXTBS4zTa4x_"
      }
    },
    {
      "cell_type": "markdown",
      "source": [
        "**Que 21-  What are the assumptions for applying the Central Limit Theorem?**\n",
        "\n",
        "**Answer 21-**\n",
        "Independent and identically distributed (i.i.d.) samples\n",
        "\n",
        "Sample size is sufficiently large (n ≥ 30 typically)\n",
        "\n",
        "Finite variance and mean"
      ],
      "metadata": {
        "id": "neAml496bCrf"
      }
    },
    {
      "cell_type": "markdown",
      "source": [
        "**Que 22- What is the concept of expected value in a probability distribution?**\n",
        "\n",
        "**Answer 22-** The expected value (mean) is the long-run average outcome of a random variable.\n",
        "\n",
        "For discrete:\n",
        "\n",
        "𝐸\n",
        "[\n",
        "𝑋\n",
        "]\n",
        "=\n",
        "∑\n",
        "𝑥\n",
        "⋅\n",
        "𝑃\n",
        "(\n",
        "𝑥\n",
        ")\n",
        "E[X]=∑x⋅P(x)\n",
        "For continuous:\n",
        "\n",
        "𝐸\n",
        "[\n",
        "𝑋\n",
        "]\n",
        "=\n",
        "∫\n",
        "𝑥\n",
        "⋅\n",
        "𝑓\n",
        "(\n",
        "𝑥\n",
        ")\n",
        "\n",
        "𝑑\n",
        "𝑥\n",
        "E[X]=∫x⋅f(x)dx"
      ],
      "metadata": {
        "id": "5gedvPbVbJp_"
      }
    },
    {
      "cell_type": "markdown",
      "source": [
        "**Que 23- How does a probability distribution relate to the expected outcome of a random variable?**\n",
        "\n",
        "**Answer 23-**\n",
        "The probability distribution weights each outcome by its probability. The expected value is the average outcome weighted by the probabilities."
      ],
      "metadata": {
        "id": "eIaz7MxNbvxX"
      }
    }
  ]
}