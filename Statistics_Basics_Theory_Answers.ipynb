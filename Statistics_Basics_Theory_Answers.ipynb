{
  "nbformat": 4,
  "nbformat_minor": 0,
  "metadata": {
    "colab": {
      "provenance": []
    },
    "kernelspec": {
      "name": "python3",
      "display_name": "Python 3"
    },
    "language_info": {
      "name": "python"
    }
  },
  "cells": [
    {
      "cell_type": "markdown",
      "source": [
        "**Statistics Basics Theory Answers**"
      ],
      "metadata": {
        "id": "DKglxgIL0HBU"
      }
    },
    {
      "cell_type": "markdown",
      "source": [
        "**Que 1-What is statistics, and why is it important?**\n",
        "   \n",
        "**Answer 1-**   Statistics is the science of collecting, analyzing, interpreting, presenting, and organizing data. It is important because it helps in making informed decisions based on data, understanding trends, testing hypotheses, and validating assumptions in various fields like economics, medicine, business, and social sciences.\n"
      ],
      "metadata": {
        "id": "ZXDymE9y0JvK"
      }
    },
    {
      "cell_type": "markdown",
      "source": [
        "**Que 2- What are the two main types of statistics?**\n",
        "\n",
        "**Answer 2-** 1-Descriptive Statistics\n",
        "              2-Inferential Statistics\n"
      ],
      "metadata": {
        "id": "o5OPs6QU0bSa"
      }
    },
    {
      "cell_type": "markdown",
      "source": [
        "**Que 3-What are descriptive statistics?**\n",
        "\n",
        "**Answer 3-**\n",
        "Descriptive statistics summarize and describe the features of a dataset. They include measures like mean, median, mode, range, variance, and standard deviation, and they help to understand the basic characteristics of the data."
      ],
      "metadata": {
        "id": "TW9xH8wE00bU"
      }
    },
    {
      "cell_type": "markdown",
      "source": [
        "**Que 4- What is inferential statistics?**\n",
        "\n",
        "**Answer 4-** Inferential statistics involve making predictions or inferences about a population based on a sample of data. It uses techniques such as hypothesis testing, confidence intervals, and regression analysis."
      ],
      "metadata": {
        "id": "H7l39Cy20_yx"
      }
    },
    {
      "cell_type": "markdown",
      "source": [
        "**Que 5-What is sampling in statistics?**\n",
        "\n",
        "**Answer 5-**\n",
        "Sampling is the process of selecting a subset of individuals from a population to estimate characteristics of the whole population"
      ],
      "metadata": {
        "id": "U69Ofi_51KMp"
      }
    },
    {
      "cell_type": "markdown",
      "source": [
        "**Que 6-What are the different types of sampling methods?**\n",
        "\n",
        "**Answer 6-** Simple Random Sampling\n",
        "\n",
        "Stratified Sampling\n",
        "\n",
        "Systematic Sampling\n",
        "\n",
        "Cluster Sampling"
      ],
      "metadata": {
        "id": "YmcIDysN1eGi"
      }
    },
    {
      "cell_type": "markdown",
      "source": [
        "**Que 7-What is the difference between random and non-random sampling?**\n",
        "\n",
        "**Answer 7-** Random Sampling: Every member of the population has an equal chance of being selected.\n",
        "\n",
        "Non-Random Sampling: Selection is based on non-probabilistic methods, such as convenience or judgment, and may introduce bias."
      ],
      "metadata": {
        "id": "T4L4eJaH14kq"
      }
    },
    {
      "cell_type": "markdown",
      "source": [
        "**Que 8- Define and give examples of qualitative and quantitative data.**\n",
        "\n",
        "**Answer 8-** Qualitative Data: Non-numeric data that describes characteristics. Example: colors, names, labels.\n",
        "\n",
        "Quantitative Data: Numeric data that can be measured. Example: height, weight, temperature."
      ],
      "metadata": {
        "id": "Drd5TsV92pJh"
      }
    },
    {
      "cell_type": "markdown",
      "source": [
        "**Que 9- What are the different types of data in statistics?**\n",
        "\n",
        "**Answer 9-** Qualitative (Categorical)\n",
        "\n",
        "                    . Nominal\n",
        "\n",
        "                    . Ordinal\n",
        "\n",
        "Quantitative (Numerical)\n",
        "\n",
        "                   .Discrete\n",
        "\n",
        "                   .Continuous"
      ],
      "metadata": {
        "id": "THj7_bxC20zR"
      }
    },
    {
      "cell_type": "markdown",
      "source": [
        "**Que 10- Explain nominal, ordinal, interval, and ratio levels of measurement.**\n",
        "\n",
        "**Answer 10-** **Nominal:** Categories with no natural order (e.g., gender, blood type)\n",
        "\n",
        "**Ordinal:** Categories with a meaningful order but unequal intervals (e.g., rankings)\n",
        "\n",
        "**Interval:** Numeric data with equal intervals, no true zero (e.g., temperature in Celsius)\n",
        "\n",
        "**Ratio:** Numeric data with equal intervals and a true zero (e.g., weight, height)"
      ],
      "metadata": {
        "id": "Y9jXmlhB3Nb5"
      }
    },
    {
      "cell_type": "markdown",
      "source": [
        "**Que 11- What is the measure of central tendency?**\n",
        "\n",
        "**Answer 11-**\n",
        "It refers to statistical measures that identify the center of a data set. The three main measures are mean, median, and mode."
      ],
      "metadata": {
        "id": "5Jw5UcW-3eEJ"
      }
    },
    {
      "cell_type": "markdown",
      "source": [
        "**Que 12- Define mean, median, and mode.**\n",
        "\n",
        "**Answer 12-** Mean: The average of all data points.\n",
        "\n",
        "Median: The middle value when data is ordered.\n",
        "\n",
        "Mode: The value that appears most frequently."
      ],
      "metadata": {
        "id": "Z2w9C80Q3nqp"
      }
    },
    {
      "cell_type": "markdown",
      "source": [
        "**Que 13- What is the significance of the measure of central tendency?**\n",
        "\n",
        "**Answer 13-**\n",
        "It helps to summarize a dataset with a single value representing the center of the data, making it easier to understand and compare."
      ],
      "metadata": {
        "id": "S5zk3gw23zFR"
      }
    },
    {
      "cell_type": "markdown",
      "source": [
        "**Que 14- What is variance, and how is it calculated?**\n",
        "\n",
        "**Answer 14-**\n",
        "Variance measures how far data points are spread out from the mean. It is calculated by averaging the squared differences between each data point and the mean."
      ],
      "metadata": {
        "id": "W_hvIjfN38gZ"
      }
    },
    {
      "cell_type": "markdown",
      "source": [
        "**Que 15- What is skewness in a dataset?**\n",
        "\n",
        "**Answer 15-**\n",
        "Skewness refers to the asymmetry of the distribution of data. A dataset is skewed if it is not symmetrical."
      ],
      "metadata": {
        "id": "4PG1TStT4H4g"
      }
    },
    {
      "cell_type": "markdown",
      "source": [
        "**Que 16- What is standard deviation, and why is it important?**\n",
        "\n",
        "**Answer 16-**\n",
        "Standard deviation is the square root of variance and measures the average distance of each data point from the mean. It is important because it gives insights into the variability of the data."
      ],
      "metadata": {
        "id": "om2cQlxN4PKJ"
      }
    },
    {
      "cell_type": "markdown",
      "source": [
        "**Que 17- Define and explain the term range in statistics.**\n",
        "\n",
        "**Answer 17-**\n",
        "Range is the difference between the maximum and minimum values in a dataset. It provides a measure of data spread."
      ],
      "metadata": {
        "id": "JZA1PppS4W05"
      }
    },
    {
      "cell_type": "markdown",
      "source": [
        "**Que 18- What is the difference between variance and standard deviation?**\n",
        "\n",
        "\n",
        "**Answer 18-** Variance is the average of squared deviations from the mean, while standard deviation is its square root. Standard deviation is in the same units as the data, making it more interpretable."
      ],
      "metadata": {
        "id": "sMLHbEXD4eBJ"
      }
    },
    {
      "cell_type": "markdown",
      "source": [
        "**Que 19- What does it mean if a dataset is positively or negatively skewed?**\n",
        "\n",
        "**Answer 19-** Positively Skewed: The tail on the right side is longer or fatter.\n",
        "\n",
        "Negatively Skewed: The tail on the left side is longer or fatter."
      ],
      "metadata": {
        "id": "V5OKCxAh4nOx"
      }
    },
    {
      "cell_type": "markdown",
      "source": [
        "**Que 20- Define and explain kurtosis.**\n",
        "\n",
        "**Answer 20-** Kurtosis measures the \"tailedness\" of a distribution. High kurtosis indicates heavy tails; low kurtosis indicates light tails."
      ],
      "metadata": {
        "id": "pt5ithRT4u_R"
      }
    },
    {
      "cell_type": "markdown",
      "source": [
        "**Que 21- What is the purpose of covariance?**\n",
        "\n",
        "**Answer 21-**Covariance indicates the direction of a linear relationship between two variables. A positive covariance means the variables increase together; a negative means one increases while the other decreases"
      ],
      "metadata": {
        "id": "ya2Vws2g45nZ"
      }
    },
    {
      "cell_type": "markdown",
      "source": [
        "**Que 22- What does correlation measure in statistics?**\n",
        "\n",
        "**Answer 22-**\n",
        "Correlation measures both the strength and direction of the linear relationship between two variables. It ranges from -1 to +1."
      ],
      "metadata": {
        "id": "dKawr2BK5CDY"
      }
    },
    {
      "cell_type": "markdown",
      "source": [
        "**Que 23- What is the difference between covariance and correlation?**\n",
        "\n",
        "**Answer 23-** Covariance shows the direction of the relationship.\n",
        "\n",
        "Correlation standardizes the measure, showing both direction and strength."
      ],
      "metadata": {
        "id": "adMpXd2Z5KDy"
      }
    },
    {
      "cell_type": "markdown",
      "source": [
        "**Que 24-** What are some real-world applications of statistics?\n",
        "\n",
        "**Answer 24-** Healthcare (drug efficacy studies)\n",
        "\n",
        "Business (market analysis, sales forecasting)\n",
        "\n",
        "Economics (unemployment rates, inflation analysis)\n",
        "\n",
        "Sports (player performance metrics)\n",
        "\n",
        "Education (student performance analysis)"
      ],
      "metadata": {
        "id": "VrWKAmNS5ZMi"
      }
    },
    {
      "cell_type": "markdown",
      "source": [
        "**Practical Questions Answers**"
      ],
      "metadata": {
        "id": "_s95i1EOrByK"
      }
    },
    {
      "cell_type": "code",
      "source": [
        "#Answer1:\n",
        "\n",
        "import numpy as np\n",
        "from statistics import mode\n",
        "\n",
        "data = [12, 15, 14, 10, 18, 20, 15]\n",
        "\n",
        "mean = np.mean(data)\n",
        "median = np.median(data)\n",
        "mode_val = mode(data)\n",
        "\n",
        "print(f\"Mean: {mean}, Median: {median}, Mode: {mode_val}\")\n"
      ],
      "metadata": {
        "colab": {
          "base_uri": "https://localhost:8080/"
        },
        "id": "Mnz_KqTErLcZ",
        "outputId": "40ff51bb-50b1-479e-b44c-8f80af005947"
      },
      "execution_count": 1,
      "outputs": [
        {
          "output_type": "stream",
          "name": "stdout",
          "text": [
            "Mean: 14.857142857142858, Median: 15.0, Mode: 15\n"
          ]
        }
      ]
    },
    {
      "cell_type": "code",
      "source": [
        "#Answer2\n",
        "\n",
        "variance = np.var(data, ddof=1)  # Sample variance\n",
        "std_dev = np.std(data, ddof=1)\n",
        "\n",
        "print(f\"Variance: {variance}, Standard Deviation: {std_dev}\")\n"
      ],
      "metadata": {
        "colab": {
          "base_uri": "https://localhost:8080/"
        },
        "id": "rjEF4sefrp2x",
        "outputId": "a72b31e0-9728-4fc4-b544-4c83e2bf3052"
      },
      "execution_count": 2,
      "outputs": [
        {
          "output_type": "stream",
          "name": "stdout",
          "text": [
            "Variance: 11.476190476190476, Standard Deviation: 3.38765264987284\n"
          ]
        }
      ]
    },
    {
      "cell_type": "code",
      "source": [
        "#Answer3\n",
        "\n",
        "import pandas as pd\n",
        "\n",
        "dataset = pd.DataFrame({\n",
        "    'Name': ['Alice', 'Bob', 'Charlie'],                  # Nominal\n",
        "    'Rank': ['First', 'Second', 'Third'],                 # Ordinal\n",
        "    'Temperature': [36.6, 37.0, 36.8],                    # Interval\n",
        "    'Height_cm': [165, 170, 175]                          # Ratio\n",
        "})\n",
        "\n",
        "print(dataset)\n"
      ],
      "metadata": {
        "colab": {
          "base_uri": "https://localhost:8080/"
        },
        "id": "2jBkKXYCrvFr",
        "outputId": "931db6ae-5a00-4b6d-b26b-cd5dae7c09e4"
      },
      "execution_count": 3,
      "outputs": [
        {
          "output_type": "stream",
          "name": "stdout",
          "text": [
            "      Name    Rank  Temperature  Height_cm\n",
            "0    Alice   First         36.6        165\n",
            "1      Bob  Second         37.0        170\n",
            "2  Charlie   Third         36.8        175\n"
          ]
        }
      ]
    },
    {
      "cell_type": "code",
      "source": [
        "#Answer4\n",
        "\n",
        "from sklearn.model_selection import train_test_split\n",
        "\n",
        "# Random Sampling\n",
        "random_sample = dataset.sample(n=2)\n",
        "\n",
        "# Stratified Sampling (using \"Rank\" as strata)\n",
        "strat_sample = dataset.groupby('Rank', group_keys=False).apply(lambda x: x.sample(1))\n",
        "\n",
        "print(\"Random Sample:\\n\", random_sample)\n",
        "print(\"Stratified Sample:\\n\", strat_sample)\n"
      ],
      "metadata": {
        "colab": {
          "base_uri": "https://localhost:8080/"
        },
        "id": "TwUzS22Cr05Z",
        "outputId": "56d6279e-ca9e-4842-b166-080e455092a4"
      },
      "execution_count": 4,
      "outputs": [
        {
          "output_type": "stream",
          "name": "stdout",
          "text": [
            "Random Sample:\n",
            "       Name    Rank  Temperature  Height_cm\n",
            "2  Charlie   Third         36.8        175\n",
            "1      Bob  Second         37.0        170\n",
            "Stratified Sample:\n",
            "       Name    Rank  Temperature  Height_cm\n",
            "0    Alice   First         36.6        165\n",
            "1      Bob  Second         37.0        170\n",
            "2  Charlie   Third         36.8        175\n"
          ]
        },
        {
          "output_type": "stream",
          "name": "stderr",
          "text": [
            "<ipython-input-4-bc24d89d7875>:9: DeprecationWarning: DataFrameGroupBy.apply operated on the grouping columns. This behavior is deprecated, and in a future version of pandas the grouping columns will be excluded from the operation. Either pass `include_groups=False` to exclude the groupings or explicitly select the grouping columns after groupby to silence this warning.\n",
            "  strat_sample = dataset.groupby('Rank', group_keys=False).apply(lambda x: x.sample(1))\n"
          ]
        }
      ]
    },
    {
      "cell_type": "code",
      "source": [
        "#Answer5\n",
        "\n",
        "def calculate_range(data):\n",
        "    return max(data) - min(data)\n",
        "\n",
        "print(\"Range:\", calculate_range(data))\n"
      ],
      "metadata": {
        "colab": {
          "base_uri": "https://localhost:8080/"
        },
        "id": "Hj1T8faEr8cS",
        "outputId": "1d24730e-68cc-46ff-e2b8-01cf2ce62694"
      },
      "execution_count": 5,
      "outputs": [
        {
          "output_type": "stream",
          "name": "stdout",
          "text": [
            "Range: 10\n"
          ]
        }
      ]
    },
    {
      "cell_type": "code",
      "source": [
        "#Answer6\n",
        "\n",
        "import matplotlib.pyplot as plt\n",
        "\n",
        "plt.hist(data, bins=5, edgecolor='black')\n",
        "plt.title('Histogram')\n",
        "plt.xlabel('Values')\n",
        "plt.ylabel('Frequency')\n",
        "plt.show()\n"
      ],
      "metadata": {
        "colab": {
          "base_uri": "https://localhost:8080/",
          "height": 472
        },
        "id": "7HOXsBmtr8aC",
        "outputId": "38cc835b-7145-4c34-95cb-c7b0d532578f"
      },
      "execution_count": 6,
      "outputs": [
        {
          "output_type": "display_data",
          "data": {
            "text/plain": [
              "<Figure size 640x480 with 1 Axes>"
            ],
            "image/png": "[encoded data removed]"
          },
          "metadata": {}
        }
      ]
    },
    {
      "cell_type": "code",
      "source": [
        "#Answer7\n",
        "\n",
        "from scipy.stats import skew, kurtosis\n",
        "\n",
        "print(\"Skewness:\", skew(data))\n",
        "print(\"Kurtosis:\", kurtosis(data))\n"
      ],
      "metadata": {
        "colab": {
          "base_uri": "https://localhost:8080/"
        },
        "id": "14xtN9GqsKZZ",
        "outputId": "9243d74c-36a9-4bfd-9912-f516e684b98c"
      },
      "execution_count": 7,
      "outputs": [
        {
          "output_type": "stream",
          "name": "stdout",
          "text": [
            "Skewness: 0.1321102803125802\n",
            "Kurtosis: -0.9022485838742447\n"
          ]
        }
      ]
    },
    {
      "cell_type": "code",
      "source": [
        "#Answer8\n",
        "\n",
        "pos_skew = [1, 2, 3, 4, 5, 100]\n",
        "neg_skew = [100, 95, 90, 85, 80, 1]\n",
        "\n",
        "print(\"Positive Skewness:\", skew(pos_skew))\n",
        "print(\"Negative Skewness:\", skew(neg_skew))\n"
      ],
      "metadata": {
        "colab": {
          "base_uri": "https://localhost:8080/"
        },
        "id": "DBKYL7bUsPf5",
        "outputId": "14a5b9ef-f196-47f7-a5cd-261fd6fed7ce"
      },
      "execution_count": 8,
      "outputs": [
        {
          "output_type": "stream",
          "name": "stdout",
          "text": [
            "Positive Skewness: 1.783729813919215\n",
            "Negative Skewness: -1.6437776929964336\n"
          ]
        }
      ]
    },
    {
      "cell_type": "code",
      "source": [
        "#Answer9\n",
        "\n",
        "x = [1, 2, 3, 4, 5]\n",
        "y = [2, 4, 5, 4, 5]\n",
        "\n",
        "cov_matrix = np.cov(x, y)\n",
        "print(\"Covariance:\", cov_matrix[0][1])\n"
      ],
      "metadata": {
        "colab": {
          "base_uri": "https://localhost:8080/"
        },
        "id": "gm7FidNjsTwB",
        "outputId": "ca3d2f35-6092-4a28-c82b-1257d49cc4f2"
      },
      "execution_count": 9,
      "outputs": [
        {
          "output_type": "stream",
          "name": "stdout",
          "text": [
            "Covariance: 1.5\n"
          ]
        }
      ]
    },
    {
      "cell_type": "code",
      "source": [
        "#Answer10\n",
        "\n",
        "corr = np.corrcoef(x, y)\n",
        "print(\"Correlation Coefficient:\", corr[0][1])\n"
      ],
      "metadata": {
        "colab": {
          "base_uri": "https://localhost:8080/"
        },
        "id": "p7Dkb6_IsYO5",
        "outputId": "b02b6d21-93eb-45b7-94b4-2315a1d66949"
      },
      "execution_count": 10,
      "outputs": [
        {
          "output_type": "stream",
          "name": "stdout",
          "text": [
            "Correlation Coefficient: 0.7745966692414834\n"
          ]
        }
      ]
    },
    {
      "cell_type": "code",
      "source": [
        "#Answer11\n",
        "\n",
        "plt.scatter(x, y)\n",
        "plt.title(\"Scatter Plot\")\n",
        "plt.xlabel(\"X\")\n",
        "plt.ylabel(\"Y\")\n",
        "plt.show()\n"
      ],
      "metadata": {
        "colab": {
          "base_uri": "https://localhost:8080/",
          "height": 472
        },
        "id": "tmbECHkgscri",
        "outputId": "560ee227-d442-4a37-edd7-726a4eed4f6c"
      },
      "execution_count": 11,
      "outputs": [
        {
          "output_type": "display_data",
          "data": {
            "text/plain": [
              "<Figure size 640x480 with 1 Axes>"
            ],
            "image/png": "[encoded data removed]"
          },
          "metadata": {}
        }
      ]
    },
    {
      "cell_type": "code",
      "source": [
        "#Answer12\n",
        "\n",
        "# Simple Random\n",
        "simple_random = dataset.sample(n=2)\n",
        "\n",
        "# Systematic Sampling\n",
        "k = 2\n",
        "systematic = dataset.iloc[::k]\n",
        "\n",
        "print(\"Simple Random Sampling:\\n\", simple_random)\n",
        "print(\"Systematic Sampling:\\n\", systematic)\n"
      ],
      "metadata": {
        "colab": {
          "base_uri": "https://localhost:8080/"
        },
        "id": "BqOJhLPAshwp",
        "outputId": "a5a27988-46ad-44f8-d1ad-67c9c0a2736f"
      },
      "execution_count": 12,
      "outputs": [
        {
          "output_type": "stream",
          "name": "stdout",
          "text": [
            "Simple Random Sampling:\n",
            "       Name   Rank  Temperature  Height_cm\n",
            "0    Alice  First         36.6        165\n",
            "2  Charlie  Third         36.8        175\n",
            "Systematic Sampling:\n",
            "       Name   Rank  Temperature  Height_cm\n",
            "0    Alice  First         36.6        165\n",
            "2  Charlie  Third         36.8        175\n"
          ]
        }
      ]
    },
    {
      "cell_type": "code",
      "source": [
        "#Answer13\n",
        "\n",
        "grouped_data = {\n",
        "    'midpoints': [5, 15, 25],\n",
        "    'frequencies': [4, 8, 3]\n",
        "}\n",
        "\n",
        "mean_grouped = np.average(grouped_data['midpoints'], weights=grouped_data['frequencies'])\n",
        "print(\"Mean of Grouped Data:\", mean_grouped)\n"
      ],
      "metadata": {
        "colab": {
          "base_uri": "https://localhost:8080/"
        },
        "id": "tWdipTwksn3h",
        "outputId": "25d30870-017b-491e-b4bb-e8de476223e0"
      },
      "execution_count": 13,
      "outputs": [
        {
          "output_type": "stream",
          "name": "stdout",
          "text": [
            "Mean of Grouped Data: 14.333333333333334\n"
          ]
        }
      ]
    },
    {
      "cell_type": "code",
      "source": [
        "#Answer14\n",
        "\n",
        "simulated_data = np.random.normal(loc=50, scale=10, size=1000)\n",
        "print(\"Mean:\", np.mean(simulated_data))\n",
        "print(\"Std Dev:\", np.std(simulated_data))\n",
        "\n",
        "plt.hist(simulated_data, bins=30)\n",
        "plt.title(\"Simulated Data Distribution\")\n",
        "plt.show()\n"
      ],
      "metadata": {
        "colab": {
          "base_uri": "https://localhost:8080/",
          "height": 488
        },
        "id": "syzYHzdwsx7K",
        "outputId": "7297c36f-6a4e-4218-c181-ebb8873032fb"
      },
      "execution_count": 14,
      "outputs": [
        {
          "output_type": "stream",
          "name": "stdout",
          "text": [
            "Mean: 49.95280095929672\n",
            "Std Dev: 10.337154297560746\n"
          ]
        },
        {
          "output_type": "display_data",
          "data": {
            "text/plain": [
              "<Figure size 640x480 with 1 Axes>"
            ],
            "image/png": "[encoded data removed]"
          },
          "metadata": {}
        }
      ]
    },
    {
      "cell_type": "code",
      "source": [
        "#Answer15\n",
        "\n",
        "df = pd.DataFrame({'Data': simulated_data})\n",
        "print(df.describe())\n"
      ],
      "metadata": {
        "colab": {
          "base_uri": "https://localhost:8080/"
        },
        "id": "uW0JQOpEs3ai",
        "outputId": "dad89051-08a8-4cb7-88bc-c2725562f434"
      },
      "execution_count": 15,
      "outputs": [
        {
          "output_type": "stream",
          "name": "stdout",
          "text": [
            "              Data\n",
            "count  1000.000000\n",
            "mean     49.952801\n",
            "std      10.342327\n",
            "min      16.998180\n",
            "25%      42.669428\n",
            "50%      49.930099\n",
            "75%      57.525730\n",
            "max      79.025720\n"
          ]
        }
      ]
    },
    {
      "cell_type": "code",
      "source": [
        "#Answer16\n",
        "\n",
        "plt.boxplot(data)\n",
        "plt.title(\"Boxplot\")\n",
        "plt.show()\n"
      ],
      "metadata": {
        "colab": {
          "base_uri": "https://localhost:8080/",
          "height": 452
        },
        "id": "yiQcTymvs_dx",
        "outputId": "18709415-72ab-4416-afab-cda8d9efdc40"
      },
      "execution_count": 16,
      "outputs": [
        {
          "output_type": "display_data",
          "data": {
            "text/plain": [
              "<Figure size 640x480 with 1 Axes>"
            ],
            "image/png": "[encoded data removed]"
          },
          "metadata": {}
        }
      ]
    },
    {
      "cell_type": "code",
      "source": [
        "#Answer17\n",
        "\n",
        "Q1 = np.percentile(data, 25)\n",
        "Q3 = np.percentile(data, 75)\n",
        "IQR = Q3 - Q1\n",
        "\n",
        "print(\"IQR:\", IQR)\n"
      ],
      "metadata": {
        "colab": {
          "base_uri": "https://localhost:8080/"
        },
        "id": "k04M2E3xtDhq",
        "outputId": "8c2aebf1-1544-46e1-df28-fed7454ce084"
      },
      "execution_count": 17,
      "outputs": [
        {
          "output_type": "stream",
          "name": "stdout",
          "text": [
            "IQR: 3.5\n"
          ]
        }
      ]
    },
    {
      "cell_type": "code",
      "source": [
        "#Answer18\n",
        "\n",
        "z_scores = (data - np.mean(data)) / np.std(data)\n",
        "print(\"Z-scores:\", z_scores)\n",
        "\n"
      ],
      "metadata": {
        "colab": {
          "base_uri": "https://localhost:8080/"
        },
        "id": "mhw9CUxQtNfR",
        "outputId": "6a1a0b02-7602-4059-d0f9-bba5f4b58f27"
      },
      "execution_count": 18,
      "outputs": [
        {
          "output_type": "stream",
          "name": "stdout",
          "text": [
            "Z-scores: [-0.91097504  0.04554875 -0.27329251 -1.54865756  1.00207254  1.63975507\n",
            "  0.04554875]\n"
          ]
        }
      ]
    },
    {
      "cell_type": "code",
      "source": [
        "#Answer19\n",
        "\n",
        "dataset1 = np.random.normal(0, 1, 100)\n",
        "dataset2 = np.random.normal(0, 5, 100)\n",
        "\n",
        "print(\"Std Dev Dataset1:\", np.std(dataset1))\n",
        "print(\"Std Dev Dataset2:\", np.std(dataset2))\n"
      ],
      "metadata": {
        "colab": {
          "base_uri": "https://localhost:8080/"
        },
        "id": "WR6KsNKFtUXJ",
        "outputId": "40f87fa5-3f5e-4df0-a834-ad91ebc987b7"
      },
      "execution_count": 19,
      "outputs": [
        {
          "output_type": "stream",
          "name": "stdout",
          "text": [
            "Std Dev Dataset1: 0.8859856686091517\n",
            "Std Dev Dataset2: 4.791026966369774\n"
          ]
        }
      ]
    },
    {
      "cell_type": "code",
      "source": [
        "#Answer20\n",
        "\n",
        "import seaborn as sns\n",
        "\n",
        "df = pd.DataFrame({'x': x, 'y': y})\n",
        "sns.heatmap(df.cov(), annot=True)\n",
        "plt.title(\"Covariance Heatmap\")\n",
        "plt.show()\n"
      ],
      "metadata": {
        "colab": {
          "base_uri": "https://localhost:8080/",
          "height": 452
        },
        "id": "NPKXXYhstYQZ",
        "outputId": "dd9ee1ca-e1d9-4877-926b-47b9b24b8c43"
      },
      "execution_count": 20,
      "outputs": [
        {
          "output_type": "display_data",
          "data": {
            "text/plain": [
              "<Figure size 640x480 with 2 Axes>"
            ],
            "image/png": "[encoded data removed]"
          },
          "metadata": {}
        }
      ]
    },
    {
      "cell_type": "code",
      "source": [
        "#Answer21\n",
        "\n",
        "sns.heatmap(df.corr(), annot=True, cmap='coolwarm')\n",
        "plt.title(\"Correlation Matrix\")\n",
        "plt.show()\n"
      ],
      "metadata": {
        "colab": {
          "base_uri": "https://localhost:8080/",
          "height": 452
        },
        "id": "er6F5OcotdEZ",
        "outputId": "f4742b41-c697-472e-f784-c8a501e8080d"
      },
      "execution_count": 21,
      "outputs": [
        {
          "output_type": "display_data",
          "data": {
            "text/plain": [
              "<Figure size 640x480 with 2 Axes>"
            ],
            "image/png": "[encoded data removed]"
          },
          "metadata": {}
        }
      ]
    },
    {
      "cell_type": "code",
      "source": [
        "#Answer22\n",
        "\n",
        "data_var = np.var(data, ddof=1)\n",
        "data_std = np.std(data, ddof=1)\n",
        "print(\"Variance:\", data_var, \"Std Dev:\", data_std)\n"
      ],
      "metadata": {
        "colab": {
          "base_uri": "https://localhost:8080/"
        },
        "id": "KTllZG9_thZB",
        "outputId": "dec976a7-c3d9-4f12-ed24-4a688a3e3558"
      },
      "execution_count": 22,
      "outputs": [
        {
          "output_type": "stream",
          "name": "stdout",
          "text": [
            "Variance: 11.476190476190476 Std Dev: 3.38765264987284\n"
          ]
        }
      ]
    },
    {
      "cell_type": "code",
      "source": [
        "#Answer23\n",
        "\n",
        "sns.histplot(data, kde=True)\n",
        "plt.title(\"Skewness & Kurtosis Visualization\")\n",
        "plt.show()\n"
      ],
      "metadata": {
        "colab": {
          "base_uri": "https://localhost:8080/",
          "height": 452
        },
        "id": "LVXqyWEktnWB",
        "outputId": "5c68a3c1-0b46-4429-904e-ca99db69da0c"
      },
      "execution_count": 23,
      "outputs": [
        {
          "output_type": "display_data",
          "data": {
            "text/plain": [
              "<Figure size 640x480 with 1 Axes>"
            ],
            "image/png": "[encoded data removed]"
          },
          "metadata": {}
        }
      ]
    },
    {
      "cell_type": "code",
      "source": [
        "#Answer24\n",
        "\n",
        "from scipy.stats import pearsonr, spearmanr\n",
        "\n",
        "pearson_corr, _ = pearsonr(x, y)\n",
        "spearman_corr, _ = spearmanr(x, y)\n",
        "\n",
        "print(\"Pearson:\", pearson_corr)\n",
        "print(\"Spearman:\", spearman_corr)\n"
      ],
      "metadata": {
        "colab": {
          "base_uri": "https://localhost:8080/"
        },
        "id": "fu6zw5tQtsiq",
        "outputId": "651f694c-fa4c-446e-9cea-0dc35f9b2b69"
      },
      "execution_count": 24,
      "outputs": [
        {
          "output_type": "stream",
          "name": "stdout",
          "text": [
            "Pearson: 0.7745966692414834\n",
            "Spearman: 0.7378647873726218\n"
          ]
        }
      ]
    }
  ]
}