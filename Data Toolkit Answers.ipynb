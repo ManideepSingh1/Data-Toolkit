{
  "nbformat": 4,
  "nbformat_minor": 0,
  "metadata": {
    "colab": {
      "provenance": [],
      "toc_visible": true
    },
    "kernelspec": {
      "name": "python3",
      "display_name": "Python 3"
    },
    "language_info": {
      "name": "python"
    }
  },
  "cells": [
    {
      "cell_type": "markdown",
      "source": [],
      "metadata": {
        "id": "wl4-vpJ1j1I5"
      }
    },
    {
      "cell_type": "markdown",
      "source": [
        "**Data Toolkit Theory Answers**"
      ],
      "metadata": {
        "id": "Rc20bXXqywrC"
      }
    },
    {
      "cell_type": "markdown",
      "source": [
        "**Ques-1. What is NumPy, and why is it widely used in Python?**\n",
        "\n",
        "Answer 1- NumPy (Numerical Python) is a library for working with numerical data. It provides:\n",
        "Powerful N-dimensional arrays (ndarray)\n",
        "Mathematical functions for fast computation\n",
        "Tools for linear algebra, statistics, and more\n",
        "It is widely used because it's efficient, fast, and supports vectorized operations, which are much quicker than Python loops"
      ],
      "metadata": {
        "id": "OEJtMsqyjPz5"
      }
    },
    {
      "cell_type": "markdown",
      "source": [
        "**Que-2. How does broadcasting work in NumPy?**\n",
        "\n",
        "Answer2- Broadcasting allows NumPy to perform operations on arrays of different shapes. Instead of manually reshaping data, NumPy automatically adjusts smaller arrays during operations"
      ],
      "metadata": {
        "id": "G6XMzF9BkGc3"
      }
    },
    {
      "cell_type": "markdown",
      "source": [
        "**Que-3 What is a Pandas DataFrame?**\n",
        "\n",
        "Answer 3- A DataFrame is a 2-dimensional labeled data structure (like an Excel sheet). Each column can have different data types (int, float, string)."
      ],
      "metadata": {
        "id": "w70NQ17akVjk"
      }
    },
    {
      "cell_type": "markdown",
      "source": [
        "**Ques 4- Explain the use of the groupby() method in Pandas.**\n",
        "\n",
        "Answer 4-  groupby() splits data into groups based on a key, then allows operations like sum, mean, or count."
      ],
      "metadata": {
        "id": "AN8In7pzk-Ej"
      }
    },
    {
      "cell_type": "markdown",
      "source": [
        "**Que 5- Why is Seaborn preferred for statistical visualizations?**\n",
        "\n",
        "Answer 5- Seaborn is preferred for statistical visualizations because:\n",
        "\n",
        "Easier to use,\n",
        "Visually attractive,\n",
        "Great for statistical plots like boxplots,\n",
        "violin plots\n",
        "and distribution plots"
      ],
      "metadata": {
        "id": "460Kx5w5lIuR"
      }
    },
    {
      "cell_type": "markdown",
      "source": [
        "**Que 6-  What are the differences between NumPy arrays and Python lists ?**\n",
        "\n",
        "Answer 6- Differences between NumPy arrays and Python lists:\n",
        "\n",
        "Speed of NumPy Array is fast as compared to Python List.\n",
        "\n",
        "Data Type\tof NumPy Array is Homogeneous whereas for Python List it is\tHeterogeneous.\n",
        "\n",
        "NumPy Array uses less Memory whereas Python list uses more memory."
      ],
      "metadata": {
        "id": "ql-nYXC3lqQF"
      }
    },
    {
      "cell_type": "markdown",
      "source": [
        "**Que 7-  What is a heatmap, and when should it be used?**\n",
        "\n",
        "Answer 7-\n",
        "A heatmap is a color-coded matrix that shows the magnitude of values. It’s useful for:\n",
        "Correlation matrices,\n",
        "Showing intensity (e.g., website traffic, population)."
      ],
      "metadata": {
        "id": "i8mEX5qqnEBL"
      }
    },
    {
      "cell_type": "markdown",
      "source": [
        "**Que 8-  What does “vectorized operation” mean in NumPy?**\n",
        "\n",
        "Answer 8- Vectorized operations apply an operation to all elements of an array without using loops faster and cleaner code."
      ],
      "metadata": {
        "id": "Ur5jVeNrnVMS"
      }
    },
    {
      "cell_type": "markdown",
      "source": [
        "**Que 9- How does Matplotlib differ from Plotly?**\n",
        "\n",
        "Answer 9-\n",
        "Matplotlib is used for publications whereas Plotly is used for Web apps and dashboards.\n",
        "Matplotlib is simple for basics whereas Plotly is Better for dashboards\n"
      ],
      "metadata": {
        "id": "mifPam-6nkY0"
      }
    },
    {
      "cell_type": "markdown",
      "source": [
        "**Que 10-  What is the significance of hierarchical indexing in Pandas?**\n",
        "\n",
        "Answer 10-\n",
        "Hierarchical indexing lets you use multi-level indexes for rows or columns, enabling more complex data structures (like pivoted data or panel data)."
      ],
      "metadata": {
        "id": "vaBWt5okoiVi"
      }
    },
    {
      "cell_type": "markdown",
      "source": [
        "**Que- 11. What is the role of Seaborn’s pairplot() function?**\n",
        "\n",
        "Answer 11-pairplot() shows pairwise relationships in a dataset. It is used for\n",
        "\n",
        "Visualizing trends and correlations\n",
        "\n",
        "EDA (exploratory data analysis)"
      ],
      "metadata": {
        "id": "4GY2YMHkophy"
      }
    },
    {
      "cell_type": "markdown",
      "source": [
        "**Que 12- What is the Purpose of the describe() function in Pandas:**\n",
        "\n",
        "Answer 12-  Purpose of the describe() function in Pandas is that\n",
        "describe() provides a statistical summary of numeric columns: mean, std, min, max, quartiles."
      ],
      "metadata": {
        "id": "zxorA-1xo-vK"
      }
    },
    {
      "cell_type": "markdown",
      "source": [
        "**Que 13- Why is handling missing data important in Pandas?**\n",
        "\n",
        "Answer 13- Handling missing data is important in Pandas because missing data cause errors in calculations."
      ],
      "metadata": {
        "id": "NhN8shFmpFjS"
      }
    },
    {
      "cell_type": "markdown",
      "source": [
        "**Que 14- What are the benefits of using Plotly for data visualization?**\n",
        "\n",
        "Answer 14- Benefits of using Plotly for data visualization:\n",
        "\n",
        "Interactive charts\n",
        "\n",
        "Easy integration with Dash for web apps\n",
        "\n",
        "Beautiful visuals with zoom, hover, and export options"
      ],
      "metadata": {
        "id": "ROY2iNvJpNfi"
      }
    },
    {
      "cell_type": "markdown",
      "source": [
        "**Que 15- How does NumPy handle multidimensional arrays?**\n",
        "\n",
        "Answer 15- NumPy uses ndarray, which can represent arrays of any dimension. It provides tools like:\n",
        "\n",
        "reshape()\n",
        "\n",
        "transpose()\n",
        "\n",
        "axis parameter for operations"
      ],
      "metadata": {
        "id": "7P0ZMg4GpiKj"
      }
    },
    {
      "cell_type": "markdown",
      "source": [
        "**Que 16- What is the role of Bokeh in data visualization?**\n",
        "\n",
        "Answer 16- Bokeh is used for:\n",
        "\n",
        "Interactive, browser-based visualizations\n",
        "\n",
        "Handling large datasets\n",
        "\n",
        "Embedding in web apps"
      ],
      "metadata": {
        "id": "H5R_9s7wpxqS"
      }
    },
    {
      "cell_type": "markdown",
      "source": [
        "**Que 17- Explain the difference between apply() and map() in Pandas?**\n",
        "\n",
        "Answer 17 - Difference between apply() and map() in Pandas:\n",
        "\n",
        " map() – element-wise operation for Series only\n",
        "\n",
        "apply() – can be used on DataFrames and Series with row/column-wise control."
      ],
      "metadata": {
        "id": "BknaXa6Up6bC"
      }
    },
    {
      "cell_type": "markdown",
      "source": [
        "**Que 18- What are some advanced features of NumPy?**\n",
        "\n",
        "Answer 18 -Advanced features of NumPy are:\n",
        "\n",
        "Broadcasting\n",
        "\n",
        "Universal functions (ufuncs)\n",
        "\n",
        "Linear algebra operations\n",
        "\n",
        "Memory-mapped files\n",
        "\n",
        "Masked arrays"
      ],
      "metadata": {
        "id": "4nO65Q_gqDfK"
      }
    },
    {
      "cell_type": "markdown",
      "source": [
        "**Que 19- How does Pandas simplify time series analysis?**\n",
        "\n",
        "Answer 19- Pandas simplify time series analysis through\n",
        "\n",
        "Time-based indexing\n",
        "\n",
        "Date parsing\n",
        "\n",
        "Resampling (e.g., daily to monthly)\n",
        "\n",
        "Rolling statistics (e.g., moving average)"
      ],
      "metadata": {
        "id": "uiAc99mZqTk7"
      }
    },
    {
      "cell_type": "markdown",
      "source": [
        "**Que 20-  What is the role of a pivot table in Pandas?**\n",
        "\n",
        "Answer 20-  Role of a pivot table in Pandas:\n",
        "\n",
        "Pivot tables summarize data with multiple levels of indexing. They’re great for:\n",
        "\n",
        "Grouping\n",
        "\n",
        "Aggregating\n",
        "\n",
        "Rearranging large datasets"
      ],
      "metadata": {
        "id": "i5KuEnQdqcoS"
      }
    },
    {
      "cell_type": "markdown",
      "source": [
        "**Que 21-  Why is NumPy’s array slicing faster than Python’s list slicing?**\n",
        "\n",
        "Answer-\n",
        "NumPy slicing is faster because:\n",
        "\n",
        "NumPy arrays are stored in contiguous memory\n",
        "\n",
        "Operations are done in C under the hood\n",
        "\n",
        "Slicing often returns views, not copies"
      ],
      "metadata": {
        "id": "Suif1s9cqodq"
      }
    },
    {
      "cell_type": "markdown",
      "source": [
        "**Que 22-  What are some common use cases for Seaborn?**\n",
        "\n",
        "Answer 22- Common use cases for Seaborn are:\n",
        "\n",
        "Visualizing distributions: distplot, boxplot\n",
        "\n",
        "Correlation heatmaps\n",
        "\n",
        "Categorical plots: barplot, countplot\n",
        "\n",
        "Pairwise relationships: pairplot\n",
        "\n",
        "Regression: lmplot"
      ],
      "metadata": {
        "id": "vv_eqEwmqzJC"
      }
    },
    {
      "cell_type": "markdown",
      "source": [
        "# **Practical Answers**"
      ],
      "metadata": {
        "id": "fv1Q9_dsu_V7"
      }
    },
    {
      "cell_type": "code",
      "source": [
        "Answer 1-\n",
        "\n",
        "import numpy as np\n",
        "\n",
        "arr = np.array([[1, 2, 3], [4, 5, 6]])\n",
        "row_sums = np.sum(arr, axis=1)\n",
        "print(\"Row sums:\", row_sums)\n",
        "\n"
      ],
      "metadata": {
        "id": "PcnxgZ1WvKLq"
      },
      "execution_count": null,
      "outputs": []
    },
    {
      "cell_type": "code",
      "source": [
        "Answwer 2\n",
        "\n",
        "import pandas as pd\n",
        "\n",
        "df = pd.DataFrame({'A': [10, 20, 30], 'B': [5, 15, 25]})\n",
        "mean_value = df['A'].mean()\n",
        "print(\"Mean of column A:\", mean_value)\n"
      ],
      "metadata": {
        "id": "TqJKuI8DvYnC"
      },
      "execution_count": null,
      "outputs": []
    },
    {
      "cell_type": "code",
      "source": [
        "Answer 3-\n",
        "\n",
        "import matplotlib.pyplot as plt\n",
        "\n",
        "x = [1, 2, 3, 4, 5]\n",
        "y = [10, 12, 15, 18, 21]\n",
        "\n",
        "plt.scatter(x, y)\n",
        "plt.title(\"Scatter Plot\")\n",
        "plt.xlabel(\"X\")\n",
        "plt.ylabel(\"Y\")\n",
        "plt.show()\n"
      ],
      "metadata": {
        "id": "kODTX6Xxv1wr"
      },
      "execution_count": null,
      "outputs": []
    },
    {
      "cell_type": "code",
      "source": [
        "Answer 4-\n",
        "\n",
        "import seaborn as sns\n",
        "import pandas as pd\n",
        "\n",
        "df = pd.DataFrame({\n",
        "    'A': [1, 2, 3, 4],\n",
        "    'B': [4, 3, 2, 1],\n",
        "    'C': [2, 3, 4, 5]\n",
        "})\n",
        "corr = df.corr()\n",
        "sns.heatmap(corr, annot=True, cmap='coolwarm')\n"
      ],
      "metadata": {
        "id": "638EGniOv8xZ"
      },
      "execution_count": null,
      "outputs": []
    },
    {
      "cell_type": "code",
      "source": [
        "Answer 5-\n",
        "\n",
        "import plotly.express as px\n",
        "import pandas as pd\n",
        "\n",
        "df = pd.DataFrame({\n",
        "    'Fruits': ['Apples', 'Oranges', 'Bananas'],\n",
        "    'Count': [10, 15, 7]\n",
        "})\n",
        "fig = px.bar(df, x='Fruits', y='Count', title=\"Fruit Count\")\n",
        "fig.show()"
      ],
      "metadata": {
        "id": "UQYu2NXbwCDZ"
      },
      "execution_count": null,
      "outputs": []
    },
    {
      "cell_type": "code",
      "source": [
        "Answer 6-\n",
        "\n",
        "import pandas as pd\n",
        "\n",
        "df = pd.DataFrame({'Marks': [70, 85, 60]})\n",
        "df['Grade'] = ['Pass' if x >= 70 else 'Fail' for x in df['Marks']]\n",
        "print(df)"
      ],
      "metadata": {
        "id": "hkaG4hTywHqy"
      },
      "execution_count": null,
      "outputs": []
    },
    {
      "cell_type": "code",
      "source": [
        "Answer 7-\n",
        "\n",
        "import numpy as np\n",
        "\n",
        "a = np.array([1, 2, 3])\n",
        "b = np.array([4, 5, 6])\n",
        "result = a * b\n",
        "print(\"Element-wise multiplication:\", result)"
      ],
      "metadata": {
        "id": "AMgG0WkvwLw6"
      },
      "execution_count": null,
      "outputs": []
    },
    {
      "cell_type": "code",
      "source": [
        "Answer 8-\n",
        "\n",
        "import matplotlib.pyplot as plt\n",
        "\n",
        "x = [1, 2, 3, 4]\n",
        "y1 = [1, 4, 9, 16]\n",
        "y2 = [2, 3, 5, 10]\n",
        "\n",
        "plt.plot(x, y1, label='Line 1')\n",
        "plt.plot(x, y2, label='Line 2')\n",
        "plt.legend()\n",
        "plt.title(\"Multiple Line Plot\")\n",
        "plt.show()"
      ],
      "metadata": {
        "id": "GQxKNgHwwWzq"
      },
      "execution_count": null,
      "outputs": []
    },
    {
      "cell_type": "code",
      "source": [
        "Answer 9-\n",
        "\n",
        "import pandas as pd\n",
        "\n",
        "df = pd.DataFrame({'Value': [10, 25, 30, 15]})\n",
        "filtered_df = df[df['Value'] > 20]\n",
        "print(filtered_df)"
      ],
      "metadata": {
        "id": "ysksXsGbwZvC"
      },
      "execution_count": null,
      "outputs": []
    },
    {
      "cell_type": "code",
      "source": [
        "Answer 10-\n",
        "\n",
        "import seaborn as sns\n",
        "import matplotlib.pyplot as plt\n",
        "\n",
        "data = [12, 15, 13, 18, 21, 22, 20, 17, 15, 14]\n",
        "sns.histplot(data, kde=True)\n",
        "plt.title(\"Histogram\")\n",
        "plt.show()"
      ],
      "metadata": {
        "id": "vPcjsBsfwd6J"
      },
      "execution_count": null,
      "outputs": []
    },
    {
      "cell_type": "code",
      "source": [
        "Answer 11-\n",
        "\n",
        "import numpy as np\n",
        "\n",
        "a = np.array([[1, 2], [3, 4]])\n",
        "b = np.array([[5, 6], [7, 8]])\n",
        "result = np.dot(a, b)\n",
        "print(\"Matrix multiplication:\\n\", result)"
      ],
      "metadata": {
        "id": "WAciOGf8wiM5"
      },
      "execution_count": null,
      "outputs": []
    },
    {
      "cell_type": "code",
      "source": [
        "Answer 13-\n",
        "\n",
        "import plotly.express as px\n",
        "import pandas as pd\n",
        "\n",
        "df = pd.DataFrame({\n",
        "    'x': [1, 2, 3, 4],\n",
        "    'y': [10, 11, 12, 13],\n",
        "    'z': [5, 6, 7, 8]\n",
        "})\n",
        "fig = px.scatter_3d(df, x='x', y='y', z='z', title=\"3D Scatter Plot\")\n",
        "fig.show()\n"
      ],
      "metadata": {
        "id": "bqWq_DowySih"
      },
      "execution_count": null,
      "outputs": []
    }
  ]
}